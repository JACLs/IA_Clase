{
 "cells": [
  {
   "cell_type": "code",
   "execution_count": 1,
   "metadata": {},
   "outputs": [],
   "source": [
    "# Importación de librerias\n",
    "from sklearn.linear_model import LinearRegression  \n",
    "from sklearn.preprocessing import PolynomialFeatures \n",
    "from sklearn.metrics import mean_squared_error, r2_score\n",
    "import matplotlib.pyplot as plt\n",
    "import numpy as np\n",
    "import pandas"
   ]
  },
  {
   "cell_type": "markdown",
   "metadata": {},
   "source": [
    "# Código"
   ]
  },
  {
   "cell_type": "code",
   "execution_count": 2,
   "metadata": {},
   "outputs": [],
   "source": [
    "# Obtencion de datos del covid\n",
    "data = pandas.read_csv(\"/home/jacl/Downloads/owid-covid-data.csv\")\n",
    "data = data[data.iso_code == 'GTM']\n",
    "data = data.filter(items=['total_cases'])\n",
    "data.dropna(inplace=True)\n",
    "x = [*range(0,data.size,1)]\n",
    "x = np.asarray(x)[:,np.newaxis]\n",
    "y = np.asarray(data['total_cases'])[:,np.newaxis]"
   ]
  },
  {
   "cell_type": "markdown",
   "metadata": {},
   "source": [
    "## Regresión lineal\n",
    "Se utilizo grado **6**, ya que se muestra menor error en el RMSE"
   ]
  },
  {
   "cell_type": "code",
   "execution_count": 3,
   "metadata": {},
   "outputs": [],
   "source": [
    "poly_degree = 6\n",
    "polynomial_features = PolynomialFeatures(degree = poly_degree)\n",
    "x_transform = polynomial_features.fit_transform(x)"
   ]
  },
  {
   "cell_type": "markdown",
   "metadata": {},
   "source": [
    "## Creación del modelo"
   ]
  },
  {
   "cell_type": "code",
   "execution_count": 4,
   "metadata": {},
   "outputs": [],
   "source": [
    "model = LinearRegression().fit(x_transform, y)\n",
    "y_new = model.predict(x_transform)"
   ]
  },
  {
   "cell_type": "markdown",
   "metadata": {},
   "source": [
    "## Calculo de estadisticas de correlación"
   ]
  },
  {
   "cell_type": "code",
   "execution_count": 5,
   "metadata": {},
   "outputs": [
    {
     "name": "stdout",
     "output_type": "stream",
     "text": [
      "RMSE:  8362.979990661532\n",
      "R2:  0.9982563396904355\n"
     ]
    }
   ],
   "source": [
    "rmse = np.sqrt(mean_squared_error(y, y_new))\n",
    "r2 = r2_score(y, y_new)\n",
    "print('RMSE: ', rmse)\n",
    "print('R2: ', r2)"
   ]
  },
  {
   "cell_type": "markdown",
   "metadata": {},
   "source": [
    "## Predicción al final del mes de enero\n",
    "Ya que el ultimo dato de la información obtenida era del 26 de diciembre y se contaba con 653 datos, los calculos para finales de enero seria hasta el 689, ya que con los 5 dias restantes del año y los 31 dias del mes de enero alcanzariamos esa edad"
   ]
  },
  {
   "cell_type": "code",
   "execution_count": 6,
   "metadata": {},
   "outputs": [],
   "source": [
    "x_new_min = 654.0\n",
    "x_new_max = 689.0\n",
    "\n",
    "x_new = np.linspace(x_new_min, x_new_max, 50)\n",
    "x_new = x_new[:,np.newaxis]\n",
    "\n",
    "x_new_transform = polynomial_features.fit_transform(x_new)\n",
    "y_new = model.predict(x_new_transform)"
   ]
  },
  {
   "cell_type": "markdown",
   "metadata": {},
   "source": [
    "# Gráfica"
   ]
  },
  {
   "cell_type": "code",
   "execution_count": 7,
   "metadata": {},
   "outputs": [
    {
     "data": {
      "image/png": "[encoded data removed]",
      "text/plain": [
       "<Figure size 432x288 with 1 Axes>"
      ]
     },
     "metadata": {
      "needs_background": "light"
     },
     "output_type": "display_data"
    }
   ],
   "source": [
    "plt.scatter(x,y)\n",
    "plt.plot(x_new, y_new, color='coral', linewidth=3)\n",
    "plt.grid()\n",
    "plt.xlim(x_new_min - 5,x_new_max + 5)\n",
    "plt.ylim(370000,640000)\n",
    "title = 'Degree = {}; RMSE = {}; R2 = {}'.format(poly_degree, round(rmse,2), round(r2,2))\n",
    "plt.title(\"Prediction of Infection of Covid-19 in Guatemala\\n \" + title, fontsize=10)\n",
    "plt.xlabel('x')\n",
    "plt.ylabel('y')\n",
    "plt.show()"
   ]
  }
 ],
 "metadata": {
  "interpreter": {
   "hash": "916dbcbb3f70747c44a77c7bcd40155683ae19c65e1c03b4aa3499c5328201f1"
  },
  "kernelspec": {
   "display_name": "Python 3.8.10 64-bit",
   "language": "python",
   "name": "python3"
  },
  "language_info": {
   "codemirror_mode": {
    "name": "ipython",
    "version": 3
   },
   "file_extension": ".py",
   "mimetype": "text/x-python",
   "name": "python",
   "nbconvert_exporter": "python",
   "pygments_lexer": "ipython3",
   "version": "3.8.10"
  },
  "orig_nbformat": 4
 },
 "nbformat": 4,
 "nbformat_minor": 2
}
